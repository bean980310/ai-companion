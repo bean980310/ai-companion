{
 "cells": [
  {
   "cell_type": "code",
   "execution_count": 5,
   "id": "7e0e2a65",
   "metadata": {},
   "outputs": [],
   "source": [
    "import os\n",
    "from pathlib import Path\n",
    "import torch\n",
    "from safetensors import safe_open\n",
    "from safetensors.torch import save_file\n",
    "from tqdm.auto import tqdm\n",
    "\n",
    "\n",
    "def convert_model_tp_fp8(file_path: str):\n",
    "    print(f\"Converting: {file_path}\")\n",
    "    \n",
    "    # Read metadata\n",
    "    try:\n",
    "        with safe_open(file_path, framework=\"pt\", device=\"cpu\") as f:\n",
    "            metadata = f.metadata()\n",
    "            metadata = metadata if metadata is not None else {}\n",
    "    except Exception as e:\n",
    "        print(f\"ERROR: {str(e)}\")\n",
    "        return False\n",
    "\n",
    "    # Convert the model\n",
    "    try:\n",
    "        sd_pruned = {}\n",
    "        with safe_open(file_path, framework=\"pt\", device=\"cpu\") as f:\n",
    "            for key in tqdm(f.keys(), desc=\"Converting tensors\"):\n",
    "                tensor = f.get_tensor(key)\n",
    "                sd_pruned[key] = tensor.to(torch.float8_e4m3fn)\n",
    "\n",
    "        # Save the converted model (in the original directory)\n",
    "        output_dir = os.path.dirname(file_path)\n",
    "        model_name = os.path.splitext(os.path.basename(file_path))[0]\n",
    "        output_filename = f\"{model_name}.fp8.safetensors\"\n",
    "        output_path = os.path.join(output_dir, output_filename)\n",
    "        save_file(sd_pruned, output_path, metadata={\"format\": \"pt\", **metadata})\n",
    "        print(f\"Saved: {output_path}\")\n",
    "\n",
    "        return True\n",
    "    except Exception as e:\n",
    "        print(f\"ERROR: {str(e)}\")\n",
    "        return False\n",
    "    \n",
    "        "
   ]
  },
  {
   "cell_type": "code",
   "execution_count": 6,
   "id": "589bfdc2",
   "metadata": {},
   "outputs": [],
   "source": [
    "def convert_model_to_int8(file_path: str):\n",
    "    print(f\"Converting: {file_path}\")\n",
    "    \n",
    "    # Read metadata\n",
    "    try:\n",
    "        with safe_open(file_path, framework=\"pt\", device=\"cpu\") as f:\n",
    "            metadata = f.metadata()\n",
    "            metadata = metadata if metadata is not None else {}\n",
    "    except Exception as e:\n",
    "        print(f\"ERROR: {str(e)}\")\n",
    "        return False\n",
    "\n",
    "    # Convert the model\n",
    "    try:\n",
    "        sd_pruned = {}\n",
    "        with safe_open(file_path, framework=\"pt\", device=\"cpu\") as f:\n",
    "            for key in tqdm(f.keys(), desc=\"Converting tensors\"):\n",
    "                tensor = f.get_tensor(key)\n",
    "                sd_pruned[key] = tensor.to(torch.int8)\n",
    "\n",
    "        # Save the converted model (in the original directory)\n",
    "        output_dir = os.path.dirname(file_path)\n",
    "        model_name = os.path.splitext(os.path.basename(file_path))[0]\n",
    "        output_filename = f\"{model_name}.int8.safetensors\"\n",
    "        output_path = os.path.join(output_dir, output_filename)\n",
    "        save_file(sd_pruned, output_path, metadata={\"format\": \"pt\", **metadata})\n",
    "        print(f\"Saved: {output_path}\")\n",
    "\n",
    "        return True\n",
    "    except Exception as e:\n",
    "        print(f\"ERROR: {str(e)}\")\n",
    "        return False\n",
    "        "
   ]
  },
  {
   "cell_type": "code",
   "execution_count": 7,
   "id": "1eaabb70",
   "metadata": {},
   "outputs": [],
   "source": [
    "file_path = \"models/diffusion/checkpoints/sdxl/animagine-xl-4.0-opt.safetensors\""
   ]
  },
  {
   "cell_type": "code",
   "execution_count": 8,
   "id": "d39b76f2",
   "metadata": {},
   "outputs": [
    {
     "name": "stdout",
     "output_type": "stream",
     "text": [
      "Converting: models/diffusion/checkpoints/sdxl/animagine-xl-4.0-opt.safetensors\n"
     ]
    },
    {
     "data": {
      "application/vnd.jupyter.widget-view+json": {
       "model_id": "5bc0ff1bd04b4201b4c87b6da0df4eca",
       "version_major": 2,
       "version_minor": 0
      },
      "text/plain": [
       "Converting tensors:   0%|          | 0/2514 [00:00<?, ?it/s]"
      ]
     },
     "metadata": {},
     "output_type": "display_data"
    },
    {
     "name": "stdout",
     "output_type": "stream",
     "text": [
      "Saved: models/diffusion/checkpoints/sdxl/animagine-xl-4.0-opt.int8.safetensors\n"
     ]
    },
    {
     "data": {
      "text/plain": [
       "True"
      ]
     },
     "execution_count": 8,
     "metadata": {},
     "output_type": "execute_result"
    }
   ],
   "source": [
    "convert_model_to_int8(file_path)"
   ]
  }
 ],
 "metadata": {
  "kernelspec": {
   "display_name": "ai",
   "language": "python",
   "name": "python3"
  },
  "language_info": {
   "codemirror_mode": {
    "name": "ipython",
    "version": 3
   },
   "file_extension": ".py",
   "mimetype": "text/x-python",
   "name": "python",
   "nbconvert_exporter": "python",
   "pygments_lexer": "ipython3",
   "version": "3.10.13"
  }
 },
 "nbformat": 4,
 "nbformat_minor": 5
}
